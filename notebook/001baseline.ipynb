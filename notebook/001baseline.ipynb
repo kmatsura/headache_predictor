{
 "metadata": {
  "language_info": {
   "codemirror_mode": {
    "name": "ipython",
    "version": 3
   },
   "file_extension": ".py",
   "mimetype": "text/x-python",
   "name": "python",
   "nbconvert_exporter": "python",
   "pygments_lexer": "ipython3",
   "version": "3.8.5-final"
  },
  "orig_nbformat": 2,
  "kernelspec": {
   "name": "python3",
   "display_name": "Python 3.8.5 64-bit ('headache_predictor': pipenv)",
   "metadata": {
    "interpreter": {
     "hash": "2d866ca6ae9508f6f1dab936044a30297a4d81758766eb4ce444add5c7dd1656"
    }
   }
  }
 },
 "nbformat": 4,
 "nbformat_minor": 2,
 "cells": [
  {
   "cell_type": "code",
   "execution_count": null,
   "metadata": {},
   "outputs": [],
   "source": [
    "import pandas as pd\n",
    "import numpy as np\n",
    "import lightgbm as lgb\n",
    "import seaborn as sns\n",
    "from sklearn.model_selection import train_test_split\n",
    "import matplotlib.pyplot as plt"
   ]
  },
  {
   "cell_type": "code",
   "execution_count": null,
   "metadata": {},
   "outputs": [],
   "source": [
    "df_ha = pd.read_csv(\"../data/headache_record2.csv\")"
   ]
  },
  {
   "cell_type": "code",
   "execution_count": null,
   "metadata": {},
   "outputs": [],
   "source": [
    "df_ha.head()"
   ]
  },
  {
   "cell_type": "code",
   "execution_count": null,
   "metadata": {},
   "outputs": [],
   "source": [
    "df_ha[\"label\"] = 1\n",
    "df_ha[\"日時\"] = df_ha[\"日時\"].map(lambda x: x.split()[0])"
   ]
  },
  {
   "cell_type": "code",
   "execution_count": null,
   "metadata": {},
   "outputs": [],
   "source": [
    "df_ha.tail()"
   ]
  },
  {
   "cell_type": "code",
   "execution_count": null,
   "metadata": {},
   "outputs": [],
   "source": [
    "pos_list = []\n",
    "for i in range(len(df_ha)):\n",
    "    pos_list.append(df_ha[\"日時\"][i])"
   ]
  },
  {
   "cell_type": "code",
   "execution_count": null,
   "metadata": {},
   "outputs": [],
   "source": [
    "for day in range(11, 32):\n",
    "    date = \"2019/12/{}\".format(day)\n",
    "    if not date in pos_list:\n",
    "        df_ha = df_ha.append(pd.Series([date, \"\", \"\", 0], index=df_ha.columns), ignore_index=True)\n",
    "        print(date)"
   ]
  },
  {
   "cell_type": "code",
   "execution_count": null,
   "metadata": {},
   "outputs": [],
   "source": [
    "df_ha"
   ]
  },
  {
   "cell_type": "code",
   "execution_count": null,
   "metadata": {},
   "outputs": [],
   "source": [
    "month = range(1, 13)\n",
    "for m in month:\n",
    "    if m in [2, 4, 6, 9, 11]:\n",
    "        date_gene = range(1, 31)\n",
    "    else:\n",
    "        date_gene = range(1, 32)\n",
    "    for d in date_gene:\n",
    "        date = \"2020/{0}/{1}\".format(m, d)\n",
    "        if not date in pos_list:\n",
    "            df_ha = df_ha.append(pd.Series([date, \"\", \"\", 0], index=df_ha.columns), ignore_index=True)"
   ]
  },
  {
   "cell_type": "code",
   "execution_count": null,
   "metadata": {},
   "outputs": [],
   "source": [
    "month = [1]\n",
    "for m in month:\n",
    "    if m in [2, 4, 6, 9, 11]:\n",
    "        date_gene = range(1, 12)\n",
    "    else:\n",
    "        date_gene = range(1, 12)\n",
    "    for d in date_gene:\n",
    "        date = \"2021/{0}/{1}\".format(m, d)\n",
    "        if not date in pos_list:\n",
    "            df_ha = df_ha.append(pd.Series([date, \"\", \"\", 0], index=df_ha.columns), ignore_index=True)"
   ]
  },
  {
   "cell_type": "code",
   "execution_count": null,
   "metadata": {},
   "outputs": [],
   "source": [
    "df_ha = df_ha.sort_values(\"日時\")"
   ]
  },
  {
   "cell_type": "code",
   "execution_count": null,
   "metadata": {},
   "outputs": [],
   "source": [
    "df_w = pd.read_csv(\"./../data/data2.csv\", encoding=\"SHIFT-JIS\")"
   ]
  },
  {
   "cell_type": "code",
   "execution_count": null,
   "metadata": {},
   "outputs": [],
   "source": [
    "\n",
    "df_w.head()"
   ]
  },
  {
   "cell_type": "code",
   "execution_count": null,
   "metadata": {},
   "outputs": [],
   "source": [
    "df_w[\"日時\"] = df_w[\"日時\"].map(lambda x: x.replace(\"年\", \"/\").replace(\"月\", \"/\").replace(\"日\", \"\"))"
   ]
  },
  {
   "cell_type": "code",
   "execution_count": null,
   "metadata": {},
   "outputs": [],
   "source": [
    "df = pd.merge(df_ha, df_w)"
   ]
  },
  {
   "cell_type": "code",
   "execution_count": null,
   "metadata": {},
   "outputs": [],
   "source": [
    "df_p = pd.read_csv(\"./../data/period2.csv\")\n",
    "df_p.head()"
   ]
  },
  {
   "cell_type": "code",
   "execution_count": null,
   "metadata": {},
   "outputs": [],
   "source": [
    "import datetime"
   ]
  },
  {
   "cell_type": "code",
   "execution_count": null,
   "metadata": {},
   "outputs": [],
   "source": [
    "y, m, d = map(int, df_p[\"startdate\"][0].split(\"/\"))\n",
    "datetime.date(y, m, d)"
   ]
  },
  {
   "cell_type": "code",
   "execution_count": null,
   "metadata": {},
   "outputs": [],
   "source": [
    "def get_passed_st(date):\n",
    "    y, m, d = map(int, date.split(\"/\"))\n",
    "    d_o = datetime.date(y, m, d)\n",
    "    tmp_ans = 100\n",
    "    for i in range(len(df_p)):\n",
    "        y, m, d = map(int, df_p[\"startdate\"][i].split(\"/\"))\n",
    "        dc = datetime.date(y, m, d)\n",
    "        day_delta = (d_o - dc).days\n",
    "        if day_delta <= 0:\n",
    "            return tmp_ans\n",
    "        if tmp_ans > day_delta:\n",
    "            tmp_ans = day_delta\n",
    "    return tmp_ans\n",
    "\n",
    "def get_passed_en(date):\n",
    "    y, m, d = map(int, date.split(\"/\"))\n",
    "    d_o = datetime.date(y, m, d)\n",
    "    tmp_ans = 100\n",
    "    for i in range(len(df_p)):\n",
    "        y, m, d = map(int, df_p[\"enddate\"][i].split(\"/\"))\n",
    "        dc = datetime.date(y, m, d)\n",
    "        day_delta = (d_o - dc).days\n",
    "        if day_delta <= 0:\n",
    "            return tmp_ans\n",
    "        if tmp_ans > day_delta:\n",
    "            tmp_ans = day_delta\n",
    "    return tmp_ans"
   ]
  },
  {
   "cell_type": "code",
   "execution_count": null,
   "metadata": {},
   "outputs": [],
   "source": [
    "get_passed_en(\"2019/12/10\")"
   ]
  },
  {
   "cell_type": "code",
   "execution_count": null,
   "metadata": {},
   "outputs": [],
   "source": [
    "df.head()"
   ]
  },
  {
   "cell_type": "code",
   "execution_count": null,
   "metadata": {},
   "outputs": [],
   "source": [
    "df[\"気温差\"] = df[\"最高気温\"] - df[\"最低気温\"]"
   ]
  },
  {
   "cell_type": "code",
   "execution_count": null,
   "metadata": {},
   "outputs": [],
   "source": [
    "df.head()"
   ]
  },
  {
   "cell_type": "code",
   "execution_count": null,
   "metadata": {},
   "outputs": [],
   "source": [
    "df[\"day_passed\"] = df[\"日時\"].map(get_passed_st)\n",
    "df[\"day_passed_en\"] = df[\"日時\"].map(get_passed_en)"
   ]
  },
  {
   "cell_type": "code",
   "execution_count": null,
   "metadata": {},
   "outputs": [],
   "source": [
    "df.tail()"
   ]
  },
  {
   "cell_type": "code",
   "execution_count": null,
   "metadata": {},
   "outputs": [],
   "source": [
    "df[\"1d_ha\"] = 0\n",
    "for i in range(len(df)-1):\n",
    "    if df[\"label\"][i] == 1:\n",
    "        df[\"1d_ha\"][i+1] = 1\n",
    "df.head()"
   ]
  },
  {
   "cell_type": "code",
   "execution_count": null,
   "metadata": {},
   "outputs": [],
   "source": [
    "df[\"3d_ha\"] = 0\n",
    "for i in range(len(df)):\n",
    "    if i == 0:\n",
    "        continue\n",
    "    if i == 1:\n",
    "        df[\"3d_ha\"][i] = df[\"label\"][0]\n",
    "    elif i == 2:\n",
    "        df[\"3d_ha\"][i] = df[\"label\"][0] + df[\"label\"][1]\n",
    "    else:\n",
    "        df[\"3d_ha\"][i] = df[\"label\"][i-3] + df[\"label\"][i-2] + df[\"label\"][i-1]\n",
    "df.head()"
   ]
  },
  {
   "cell_type": "code",
   "execution_count": null,
   "metadata": {},
   "outputs": [],
   "source": [
    "df[\"7d_ha\"] = 0\n",
    "for i in range(len(df)):\n",
    "    if i == 0:\n",
    "        continue\n",
    "    if i == 1:\n",
    "        df[\"7d_ha\"][i] = df[\"label\"][0]\n",
    "    elif i == 2:\n",
    "        df[\"7d_ha\"][i] = df[\"label\"][0] + df[\"label\"][1]\n",
    "    elif i == 3:\n",
    "        df[\"7d_ha\"][i] = df[\"label\"][i-3] + df[\"label\"][i-2] + df[\"label\"][i-1]\n",
    "    elif i == 4:\n",
    "        df[\"7d_ha\"][i] = df[\"label\"][i-4] + df[\"label\"][i-3] + df[\"label\"][i-2] + df[\"label\"][i-1]\n",
    "    elif i == 5:\n",
    "        df[\"7d_ha\"][i] = df[\"label\"][i-5] + df[\"label\"][i-4] + df[\"label\"][i-3] + df[\"label\"][i-2] + df[\"label\"][i-1]\n",
    "    elif i == 6:\n",
    "        df[\"7d_ha\"][i] = df[\"label\"][i-6] + df[\"label\"][i-5] + df[\"label\"][i-4] + df[\"label\"][i-3] + df[\"label\"][i-2] + df[\"label\"][i-1]\n",
    "    else:\n",
    "        df[\"7d_ha\"][i] = df[\"label\"][i-7] + df[\"label\"][i-6] + df[\"label\"][i-5] + df[\"label\"][i-4] + df[\"label\"][i-3] + df[\"label\"][i-2] + df[\"label\"][i-1]\n",
    "df.head()"
   ]
  },
  {
   "cell_type": "code",
   "execution_count": null,
   "metadata": {},
   "outputs": [],
   "source": [
    "df[\"delta_pressure\"] = 0\n",
    "for i in range(len(df)):\n",
    "    if i == 0:\n",
    "        continue\n",
    "    else:\n",
    "        df[\"delta_pressure\"][i] = df[\"平均現地気圧\"][i] - df[\"平均現地気圧\"][i-1]\n",
    "df.head()"
   ]
  },
  {
   "cell_type": "code",
   "execution_count": null,
   "metadata": {},
   "outputs": [],
   "source": [
    "df[\"天気概況昼\"].value_counts()"
   ]
  },
  {
   "cell_type": "code",
   "execution_count": null,
   "metadata": {},
   "outputs": [],
   "source": [
    "df[\"天気概況夜\"].value_counts()"
   ]
  },
  {
   "cell_type": "code",
   "execution_count": null,
   "metadata": {},
   "outputs": [],
   "source": [
    "y = np.array(df[\"label\"])"
   ]
  },
  {
   "cell_type": "code",
   "execution_count": null,
   "metadata": {},
   "outputs": [],
   "source": [
    "X = df[[\"最高気温\", \"気温差\", \"day_passed\", \"平均現地気圧\", \"1d_ha\", \"3d_ha\", \"7d_ha\", \"delta_pressure\"]]"
   ]
  },
  {
   "cell_type": "code",
   "execution_count": null,
   "metadata": {},
   "outputs": [],
   "source": [
    "X = df[[\"day_passed\", \"day_passed_en\"]]"
   ]
  },
  {
   "cell_type": "code",
   "execution_count": null,
   "metadata": {},
   "outputs": [],
   "source": [
    "X = df[[\"平均現地気圧\"]]"
   ]
  },
  {
   "cell_type": "code",
   "execution_count": null,
   "metadata": {},
   "outputs": [],
   "source": [
    "\n",
    "sns.pairplot(data=df, hue='label')\n",
    "plt.show()"
   ]
  },
  {
   "cell_type": "code",
   "execution_count": null,
   "metadata": {},
   "outputs": [],
   "source": [
    "X_train, X_test, y_train, y_test = train_test_split(X, y, stratify=y, random_state=42)"
   ]
  },
  {
   "cell_type": "code",
   "execution_count": null,
   "metadata": {},
   "outputs": [],
   "source": [
    "lgb_train = lgb.Dataset(X_train, y_train)\n",
    "lgb_eval = lgb.Dataset(X_test, y_test, reference=lgb_train)"
   ]
  },
  {
   "cell_type": "code",
   "execution_count": null,
   "metadata": {},
   "outputs": [],
   "source": [
    "lgbm_params = {\n",
    "    # 二値分類問題\n",
    "    'objective': 'binary',\n",
    "    # AUC の最大化を目指す\n",
    "    'metric': 'auc',\n",
    "    # Fatal の場合出力\n",
    "    'verbosity': -1,\n",
    "}"
   ]
  },
  {
   "cell_type": "code",
   "execution_count": null,
   "metadata": {},
   "outputs": [],
   "source": [
    "X_train"
   ]
  },
  {
   "cell_type": "code",
   "execution_count": null,
   "metadata": {},
   "outputs": [],
   "source": [
    "model = lgb.train(lgbm_params, lgb_train, valid_sets=lgb_eval,\n",
    "                  verbose_eval=50,  # 50イテレーション毎に学習結果出力\n",
    "                  num_boost_round=100 # 最大イテレーション回数指定\n",
    "                 )"
   ]
  },
  {
   "cell_type": "code",
   "execution_count": null,
   "metadata": {},
   "outputs": [],
   "source": [
    "model.predict(X_test)"
   ]
  },
  {
   "cell_type": "code",
   "execution_count": null,
   "metadata": {},
   "outputs": [],
   "source": [
    "# maketest\n",
    "df = pd.read_csv(\"./../data/test.csv\")\n",
    "X_test[\"最高気温\"] = X_test[\"最高気温\"].map(float)\n",
    "X_test[\"最低気温\"] = X_test[\"最低気温\"].map(float)\n",
    "X_test[\"降水量\"] = X_test[\"降水量\"].map(float)\n",
    "X_test[\"気温差\"] = X_test[\"気温差\"].map(float)\n",
    "X_test"
   ]
  },
  {
   "cell_type": "code",
   "execution_count": null,
   "metadata": {},
   "outputs": [],
   "source": [
    "df_predict = pd.read_csv(\"./../data/test.csv\")\n",
    "df_predict"
   ]
  },
  {
   "cell_type": "code",
   "execution_count": null,
   "metadata": {},
   "outputs": [],
   "source": [
    "\n",
    "model.predict(df_predict[[\"最高気温\", \"気温差\", \"day_passed\", \"平均現地気圧\", \"1d_ha\", \"3d_ha\", \"7d_ha\", \"delta_pressure\"]])"
   ]
  },
  {
   "source": [
    "# todo\n",
    "天気のonehot-encoding  \n",
    "交差検証  \n",
    "データ水増し、アンダーサンプリング  \n",
    "パラメタチューニング  \n",
    "過去に1日/3日/7日以内に頭痛になったかどうか  \n",
    "気圧の変化  \n",
    "その他のデルタ特徴量\n",
    "\n",
    "# done\n",
    "平均気圧の変化"
   ],
   "cell_type": "markdown",
   "metadata": {}
  },
  {
   "cell_type": "code",
   "execution_count": null,
   "metadata": {},
   "outputs": [],
   "source": []
  }
 ]
}